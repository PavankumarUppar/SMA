{
  "nbformat": 4,
  "nbformat_minor": 0,
  "metadata": {
    "colab": {
      "provenance": [],
      "authorship_tag": "ABX9TyPZphkksrAxLsn7CAZD5Wly",
      "include_colab_link": true
    },
    "kernelspec": {
      "name": "python3",
      "display_name": "Python 3"
    },
    "language_info": {
      "name": "python"
    }
  },
  "cells": [
    {
      "cell_type": "markdown",
      "metadata": {
        "id": "view-in-github",
        "colab_type": "text"
      },
      "source": [
        "<a href=\"https://colab.research.google.com/github/PavankumarUppar/SMA/blob/main/SMAProgram1.ipynb\" target=\"_parent\"><img src=\"https://colab.research.google.com/assets/colab-badge.svg\" alt=\"Open In Colab\"/></a>"
      ]
    },
    {
      "cell_type": "code",
      "execution_count": 1,
      "metadata": {
        "colab": {
          "base_uri": "https://localhost:8080/"
        },
        "id": "kEpsKVHwMGdl",
        "outputId": "55a6326f-0e60-4228-bc82-4f066fdfac76"
      },
      "outputs": [
        {
          "output_type": "stream",
          "name": "stdout",
          "text": [
            "Page 1: PageRank Score = 370985388490.9102, Rank = 3\n",
            "Page 2: PageRank Score = 542885307621.4781, Rank = 1\n",
            "Page 3: PageRank Score = 224870457229.9272, Rank = 4\n",
            "Page 4: PageRank Score = 524652567846.0992, Rank = 2\n"
          ]
        }
      ],
      "source": [
        "import numpy as np\n",
        "\n",
        "def page_rank(adj_matrix, damping_factor=0.85, max_iterations=100, epsilon=1e-6):\n",
        "    num_nodes = adj_matrix.shape[0]\n",
        "    rank = np.ones(num_nodes) / num_nodes\n",
        "    teleportation = (1 - damping_factor) / num_nodes\n",
        "\n",
        "    for _ in range(max_iterations):\n",
        "        new_rank = np.ones(num_nodes) * teleportation + damping_factor * np.dot(adj_matrix.T, rank)\n",
        "        if np.linalg.norm(new_rank - rank) < epsilon:\n",
        "            break\n",
        "        rank = new_rank\n",
        "\n",
        "    return rank\n",
        "\n",
        "# Predefined adjacency matrix\n",
        "adjacency_matrix = np.array([\n",
        "    [0, 1, 1, 0],\n",
        "    [1, 0, 0, 1],\n",
        "    [0, 0, 0, 1],\n",
        "    [0, 1, 0, 0]\n",
        "])\n",
        "\n",
        "pagerank_scores = page_rank(adjacency_matrix)\n",
        "\n",
        "# Display the PageRank scores and ranks of each page\n",
        "ranked_pages = np.argsort(pagerank_scores)[::-1]\n",
        "for i, score in enumerate(pagerank_scores):\n",
        "    page_rank_score = score\n",
        "    page_rank_rank = np.where(ranked_pages == i)[0][0] + 1\n",
        "    print(f\"Page {i+1}: PageRank Score = {page_rank_score:.4f}, Rank = {page_rank_rank}\")\n"
      ]
    },
    {
      "cell_type": "code",
      "source": [],
      "metadata": {
        "id": "5rN9kq-kMS4T"
      },
      "execution_count": null,
      "outputs": []
    }
  ]
}