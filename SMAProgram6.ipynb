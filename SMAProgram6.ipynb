{
  "nbformat": 4,
  "nbformat_minor": 0,
  "metadata": {
    "colab": {
      "provenance": [],
      "authorship_tag": "ABX9TyOtpwZBThRIXHjfw0mzV2dI",
      "include_colab_link": true
    },
    "kernelspec": {
      "name": "python3",
      "display_name": "Python 3"
    },
    "language_info": {
      "name": "python"
    }
  },
  "cells": [
    {
      "cell_type": "markdown",
      "metadata": {
        "id": "view-in-github",
        "colab_type": "text"
      },
      "source": [
        "<a href=\"https://colab.research.google.com/github/PavankumarUppar/SMA/blob/main/SMAProgram6.ipynb\" target=\"_parent\"><img src=\"https://colab.research.google.com/assets/colab-badge.svg\" alt=\"Open In Colab\"/></a>"
      ]
    },
    {
      "cell_type": "code",
      "source": [
        "!pip install pytrends"
      ],
      "metadata": {
        "colab": {
          "base_uri": "https://localhost:8080/"
        },
        "id": "Rgw6Cmy_Rogs",
        "outputId": "6997148e-83dc-4d08-b1d3-e4d8b7aad7f5"
      },
      "execution_count": 2,
      "outputs": [
        {
          "output_type": "stream",
          "name": "stdout",
          "text": [
            "Looking in indexes: https://pypi.org/simple, https://us-python.pkg.dev/colab-wheels/public/simple/\n",
            "Requirement already satisfied: pytrends in /usr/local/lib/python3.10/dist-packages (4.9.2)\n",
            "Requirement already satisfied: requests>=2.0 in /usr/local/lib/python3.10/dist-packages (from pytrends) (2.27.1)\n",
            "Requirement already satisfied: pandas>=0.25 in /usr/local/lib/python3.10/dist-packages (from pytrends) (1.5.3)\n",
            "Requirement already satisfied: lxml in /usr/local/lib/python3.10/dist-packages (from pytrends) (4.9.2)\n",
            "Requirement already satisfied: python-dateutil>=2.8.1 in /usr/local/lib/python3.10/dist-packages (from pandas>=0.25->pytrends) (2.8.2)\n",
            "Requirement already satisfied: pytz>=2020.1 in /usr/local/lib/python3.10/dist-packages (from pandas>=0.25->pytrends) (2022.7.1)\n",
            "Requirement already satisfied: numpy>=1.21.0 in /usr/local/lib/python3.10/dist-packages (from pandas>=0.25->pytrends) (1.22.4)\n",
            "Requirement already satisfied: urllib3<1.27,>=1.21.1 in /usr/local/lib/python3.10/dist-packages (from requests>=2.0->pytrends) (1.26.15)\n",
            "Requirement already satisfied: certifi>=2017.4.17 in /usr/local/lib/python3.10/dist-packages (from requests>=2.0->pytrends) (2022.12.7)\n",
            "Requirement already satisfied: charset-normalizer~=2.0.0 in /usr/local/lib/python3.10/dist-packages (from requests>=2.0->pytrends) (2.0.12)\n",
            "Requirement already satisfied: idna<4,>=2.5 in /usr/local/lib/python3.10/dist-packages (from requests>=2.0->pytrends) (3.4)\n",
            "Requirement already satisfied: six>=1.5 in /usr/local/lib/python3.10/dist-packages (from python-dateutil>=2.8.1->pandas>=0.25->pytrends) (1.16.0)\n"
          ]
        }
      ]
    },
    {
      "cell_type": "code",
      "execution_count": 3,
      "metadata": {
        "colab": {
          "base_uri": "https://localhost:8080/"
        },
        "id": "FY8lnC5ERbSr",
        "outputId": "136d50d3-33f7-414a-c6d8-81ff5e9904f3"
      },
      "outputs": [
        {
          "output_type": "stream",
          "name": "stdout",
          "text": [
            "            Anushka  Entrepreneur  isPartial\n",
            "date                                        \n",
            "2018-06-17       20             9      False\n",
            "2018-06-24       16             9      False\n",
            "2018-07-01       16             9      False\n",
            "2018-07-08       16             9      False\n",
            "2018-07-15       14             9      False\n",
            "...             ...           ...        ...\n",
            "2023-05-07       10            12      False\n",
            "2023-05-14        9            12      False\n",
            "2023-05-21       11            13      False\n",
            "2023-05-28       12            12      False\n",
            "2023-06-04       10            12       True\n",
            "\n",
            "[260 rows x 3 columns]\n",
            "                Anushka  Entrepreneur\n",
            "geoName                              \n",
            "Afghanistan           0             0\n",
            "Albania               0             0\n",
            "Algeria               0             0\n",
            "American Samoa        0             0\n",
            "Andorra               0             0\n",
            "...                 ...           ...\n",
            "Western Sahara        0             0\n",
            "Yemen                 0             0\n",
            "Zambia                0             0\n",
            "Zimbabwe              0             0\n",
            "Åland Islands         0             0\n",
            "\n",
            "[250 rows x 2 columns]\n",
            "None\n",
            "{'Anushka': {'top':                          query  value\n",
            "0               anushka sharma    100\n",
            "1               anushka shetty     57\n",
            "2                  anushka sen     41\n",
            "3                anushka video     31\n",
            "4                virat anushka     23\n",
            "5                         sexy     19\n",
            "6                  virat kohli     18\n",
            "7                        kohli     18\n",
            "8   virat kohli anushka sharma     16\n",
            "9               anushka videos     16\n",
            "10                 anushka age     12\n",
            "11               anushka photo     11\n",
            "12              anushka photos     10\n",
            "13                       kajal      7\n",
            "14               anushka singh      6\n",
            "15          anushka sharma age      5\n",
            "16                     deepika      5\n",
            "17           virat and anushka      5\n",
            "18                     katrina      5\n",
            "19                     tamanna      4\n",
            "20                     prabhas      4\n",
            "21             anushka meaning      4\n",
            "22                  alia bhatt      4\n",
            "23            deepika padukone      4\n",
            "24                katrina kaif      4, 'rising':                          query  value\n",
            "0                        riyaz  22200\n",
            "1                    riyaz aly  12950\n",
            "2                     rashmika   8050\n",
            "3                 vamika kohli   8000\n",
            "4             rashid khan wife   6950\n",
            "5                ananya pandey   5400\n",
            "6            rashmika mandanna   4800\n",
            "7                vicky kaushal   3100\n",
            "8                jannat zubair   2700\n",
            "9   anushka sen height in feet   2600\n",
            "10                 aditya seal   2600\n",
            "11                arishfa khan   2400\n",
            "12                 avneet kaur   2100\n",
            "13             siddharth nigam   1850\n",
            "14                kiara advani   1750\n",
            "15                 nora fatehi   1600\n",
            "16               anushka patra   1600\n",
            "17       anushka sen boyfriend   1550\n",
            "18               sara ali khan   1450\n",
            "19          anushka sen height   1300\n",
            "20                    kl rahul   1150\n",
            "21             anushka sen pic   1150\n",
            "22              keerthy suresh   1050\n",
            "23           anushka sen photo   1000\n",
            "24           samantha akkineni   1000}, 'Entrepreneur': {'top':                                    query  value\n",
            "0                      auto entrepreneur    100\n",
            "1                       the entrepreneur     48\n",
            "2                        an entrepreneur     41\n",
            "3                  business entrepreneur     28\n",
            "4                   entrepreneur meaning     27\n",
            "5                               business     26\n",
            "6                   what is entrepreneur     24\n",
            "7                       entrepreneurship     18\n",
            "8               urssaf auto entrepreneur     16\n",
            "9                                 urssaf     15\n",
            "10                   urssaf entrepreneur     15\n",
            "11                         entrepreneurs     13\n",
            "12               what is an entrepreneur     12\n",
            "13                what is a entrepreneur     12\n",
            "14                    micro entrepreneur     10\n",
            "15  ramneek sidhu entrepreneur instagram      9\n",
            "16               successful entrepreneur      9\n",
            "17               entrepreneur definition      9\n",
            "18                   who is entrepreneur      8\n",
            "19                     best entrepreneur      7\n",
            "20                       characteristics      7\n",
            "21               meaning of entrepreneur      7\n",
            "22                       auto entreprise      7\n",
            "23                   social entrepreneur      6\n",
            "24          entrepreneur characteristics      6, 'rising':                                                 query   value\n",
            "0                ramneek sidhu entrepreneur instagram  236650\n",
            "1                              auto entrepreneur 2020   38550\n",
            "2   ramneek sidhu spotted at dubai international a...   11950\n",
            "3                  aide auto entrepreneur coronavirus    8650\n",
            "4                                            quillbot    7100\n",
            "5                 reza abbaszadeh german entrepreneur    4800\n",
            "6                       ceo entrepreneur born in 1964    4600\n",
            "7                      salut à toi jeune entrepreneur    4550\n",
            "8           laura fuentes food lifestyle entrepreneur    3600\n",
            "9            formation auto entrepreneur learning box    2550\n",
            "10       what motivated you to become an entrepreneur    2300\n",
            "11  in 1999, the time person of the year, was a th...    2250\n",
            "12                                  paraphrasing tool    1850\n",
            "13                                  urssaf mon compte    1650\n",
            "14                urssaf auto entrepreneur mon compte    1650\n",
            "15  an entrepreneur would most likely be intereste...     750\n",
            "16                  entrepreneur meaning in malayalam     750\n",
            "17                    entrepreneur meaning in bengali     600\n",
            "18                    entrepreneur meaning in punjabi     550\n",
            "19                            entrepreneur in tagalog     550\n",
            "20                    entrepreneur meaning in kannada     450\n",
            "21                      entrepreneur meaning in tamil     450\n",
            "22                            urssaf autoentrepreneur     400\n",
            "23                    entrepreneur meaning in marathi     400\n",
            "24                   entrepreneur meaning in gujarati     400}}\n",
            "[{'mid': '/m/05z1_', 'title': 'Python', 'type': 'Programming language'}, {'mid': '/g/11fmrll9fp', 'title': 'Automate the Boring Stuff with Python: Practical Programming for Total Beginners', 'type': 'Book by Al Al Sweigart'}, {'mid': '/m/05tb5', 'title': 'Python family', 'type': 'Snake'}, {'mid': '/m/0cv6_m', 'title': 'Pythons', 'type': 'Snake'}, {'mid': '/g/11dxqcx7f2', 'title': 'Deep Learning with Python', 'type': 'Book by François Chollet'}]\n"
          ]
        }
      ],
      "source": [
        "from pytrends.request import TrendReq\n",
        "\n",
        "pytrends = TrendReq()\n",
        "\n",
        "keywords = [\"Anushka\", \"Entrepreneur\"]\n",
        "pytrends.build_payload(keywords, timeframe='today 5-y')\n",
        "\n",
        "interest_over_time_df = pytrends.interest_over_time()\n",
        "print(interest_over_time_df)\n",
        "\n",
        "#historical_hourly_interest_df = pytrends.get_historical_interest(keywords, year_start=2021, month_start=1, day_start=1, hour_start=0, year_end=2021, month_end=1, day_end=2, hour_end=0, cat=0, geo='', gprop='', sleep=0)\n",
        "#print(historical_hourly_interest_df)\n",
        "\n",
        "interest_by_region_df = pytrends.interest_by_region()\n",
        "print(interest_by_region_df)\n",
        "\n",
        "top_charts_df = pytrends.top_charts(date='2023', geo='GLOBAL')\n",
        "print(top_charts_df)\n",
        "\n",
        "related_queries_dict = pytrends.related_queries()\n",
        "print(related_queries_dict)\n",
        "\n",
        "suggestions_dict = pytrends.suggestions(keyword='Python')\n",
        "print(suggestions_dict)\n"
      ]
    },
    {
      "cell_type": "code",
      "source": [],
      "metadata": {
        "id": "eO1WzE39RhJa"
      },
      "execution_count": 3,
      "outputs": []
    }
  ]
}