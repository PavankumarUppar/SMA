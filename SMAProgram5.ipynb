{
  "nbformat": 4,
  "nbformat_minor": 0,
  "metadata": {
    "colab": {
      "provenance": [],
      "authorship_tag": "ABX9TyOpPuIzrVR43QUQshR8IZy3",
      "include_colab_link": true
    },
    "kernelspec": {
      "name": "python3",
      "display_name": "Python 3"
    },
    "language_info": {
      "name": "python"
    }
  },
  "cells": [
    {
      "cell_type": "markdown",
      "metadata": {
        "id": "view-in-github",
        "colab_type": "text"
      },
      "source": [
        "<a href=\"https://colab.research.google.com/github/PavankumarUppar/SMA/blob/main/SMAProgram5.ipynb\" target=\"_parent\"><img src=\"https://colab.research.google.com/assets/colab-badge.svg\" alt=\"Open In Colab\"/></a>"
      ]
    },
    {
      "cell_type": "code",
      "source": [
        "!pip install stackapi"
      ],
      "metadata": {
        "colab": {
          "base_uri": "https://localhost:8080/"
        },
        "id": "ZTQVbxkjQ9_7",
        "outputId": "69c865ba-3fb3-4f36-dc87-c65f55a9ecfa"
      },
      "execution_count": 1,
      "outputs": [
        {
          "output_type": "stream",
          "name": "stdout",
          "text": [
            "Looking in indexes: https://pypi.org/simple, https://us-python.pkg.dev/colab-wheels/public/simple/\n",
            "Collecting stackapi\n",
            "  Downloading StackAPI-0.2.0.tar.gz (5.6 kB)\n",
            "  Preparing metadata (setup.py) ... \u001b[?25l\u001b[?25hdone\n",
            "Requirement already satisfied: requests in /usr/local/lib/python3.10/dist-packages (from stackapi) (2.27.1)\n",
            "Requirement already satisfied: six in /usr/local/lib/python3.10/dist-packages (from stackapi) (1.16.0)\n",
            "Requirement already satisfied: urllib3<1.27,>=1.21.1 in /usr/local/lib/python3.10/dist-packages (from requests->stackapi) (1.26.15)\n",
            "Requirement already satisfied: certifi>=2017.4.17 in /usr/local/lib/python3.10/dist-packages (from requests->stackapi) (2022.12.7)\n",
            "Requirement already satisfied: charset-normalizer~=2.0.0 in /usr/local/lib/python3.10/dist-packages (from requests->stackapi) (2.0.12)\n",
            "Requirement already satisfied: idna<4,>=2.5 in /usr/local/lib/python3.10/dist-packages (from requests->stackapi) (3.4)\n",
            "Building wheels for collected packages: stackapi\n",
            "  Building wheel for stackapi (setup.py) ... \u001b[?25l\u001b[?25hdone\n",
            "  Created wheel for stackapi: filename=StackAPI-0.2.0-py3-none-any.whl size=5843 sha256=391ca1b5bf140852b0d51049f9a601acecda57c177a4812cbbefc53237c1be75\n",
            "  Stored in directory: /root/.cache/pip/wheels/50/c1/65/a9d6cef09afffda023c377a5334dff8ef4f475b851a38f40d7\n",
            "Successfully built stackapi\n",
            "Installing collected packages: stackapi\n",
            "Successfully installed stackapi-0.2.0\n"
          ]
        }
      ]
    },
    {
      "cell_type": "code",
      "execution_count": 2,
      "metadata": {
        "colab": {
          "base_uri": "https://localhost:8080/"
        },
        "id": "4URS4WtTQ2I0",
        "outputId": "c8935f96-f765-4da1-eb74-e3a189f27cc0"
      },
      "outputs": [
        {
          "output_type": "stream",
          "name": "stdout",
          "text": [
            "Title: python error invalid syntax on if statement\n",
            "Link: https://stackoverflow.com/questions/34645805/python-error-invalid-syntax-on-if-statement\n",
            "Score: 1\n",
            "------\n",
            "Title: Python error - Invalid syntax\n",
            "Link: https://stackoverflow.com/questions/17911026/python-error-invalid-syntax\n",
            "Score: 0\n",
            "------\n",
            "Title: Python error (invalid syntax) in string like &quot; &quot;$xyz&quot; &quot;\n",
            "Link: https://stackoverflow.com/questions/59839334/python-error-invalid-syntax-in-string-like-xyz\n",
            "Score: 0\n",
            "------\n",
            "Title: Python error &quot;invalid syntax&quot; and &quot;name (...) can be undefined&quot;\n",
            "Link: https://stackoverflow.com/questions/66316210/python-error-invalid-syntax-and-name-can-be-undefined\n",
            "Score: -1\n",
            "------\n"
          ]
        }
      ],
      "source": [
        "from stackapi import StackAPI\n",
        "\n",
        "def search_stack_overflow_errors(query):\n",
        "   SITE = StackAPI('stackoverflow')\n",
        "   search_results = SITE.fetch('search', intitle=query, sort='votes')\n",
        "   questions = search_results['items']\n",
        "  \n",
        "   if len(questions) == 0:\n",
        "       print(\"No relevant Stack Overflow questions found.\")\n",
        "   else:\n",
        "       for question in questions:\n",
        "           print(f\"Title: {question['title']}\")\n",
        "           print(f\"Link: {question['link']}\")\n",
        "           print(f\"Score: {question['score']}\")\n",
        "           print(\"------\")\n",
        "\n",
        "# Example usage\n",
        "query = \"python error: invalid syntax\"\n",
        "search_stack_overflow_errors(query)"
      ]
    }
  ]
}